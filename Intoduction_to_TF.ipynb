{
 "cells": [
  {
   "cell_type": "code",
   "execution_count": 3,
   "id": "cdbd838f",
   "metadata": {},
   "outputs": [],
   "source": [
    "import tensorflow as tf\n",
    "import numpy as np\n",
    "import matplotlib.pyplot as plt\n",
    "import mitdeeplearning as mdl"
   ]
  },
  {
   "cell_type": "code",
   "execution_count": 5,
   "id": "4d3fa1fd",
   "metadata": {},
   "outputs": [],
   "source": [
    "sport = tf.constant(\"tennis\", tf.string)\n",
    "number = tf.constant(1.69696969696, tf.float64)"
   ]
  },
  {
   "cell_type": "code",
   "execution_count": 11,
   "id": "66a3b556",
   "metadata": {},
   "outputs": [
    {
     "name": "stdout",
     "output_type": "stream",
     "text": [
      "0\n",
      "`number` is a 0-d Tensor\n"
     ]
    }
   ],
   "source": [
    "print(tf.rank(sport).numpy())\n",
    "print(\"`number` is a {}-d Tensor\".format(tf.rank(number).numpy()))\n"
   ]
  },
  {
   "cell_type": "code",
   "execution_count": 12,
   "id": "1413f0b8",
   "metadata": {},
   "outputs": [
    {
     "name": "stdout",
     "output_type": "stream",
     "text": [
      "`sports` is a 1-d Tensor with shape: [2]\n",
      "`numbers` is a 1-d Tensor with shape: [3]\n"
     ]
    }
   ],
   "source": [
    "sports = tf.constant([\"Tennis\", \"Basketball\"], tf.string)\n",
    "numbers = tf.constant([3.141592, 1.414213, 2.71821], tf.float64)\n",
    "\n",
    "print(\"`sports` is a {}-d Tensor with shape: {}\".format(tf.rank(sports).numpy(), tf.shape(sports)))\n",
    "print(\"`numbers` is a {}-d Tensor with shape: {}\".format(tf.rank(numbers).numpy(), tf.shape(numbers)))\n",
    "     "
   ]
  },
  {
   "cell_type": "code",
   "execution_count": 17,
   "id": "aa4c5423",
   "metadata": {},
   "outputs": [],
   "source": [
    "matrix = tf.constant([[1,2,3],[4,5,6],[7,8,9]], tf.int64)\n",
    "assert isinstance(matrix, tf.Tensor), \"matrix must be a tf Tensor object\"\n",
    "assert tf.rank(matrix).numpy() == 2"
   ]
  },
  {
   "cell_type": "code",
   "execution_count": 29,
   "id": "8945adfb",
   "metadata": {},
   "outputs": [],
   "source": [
    "shape = [10,256,256,3]\n",
    "images = tf.constant(tf.zeros(shape))\n",
    "\n",
    "assert isinstance(images, tf.Tensor), \"matrix must be a tf Tensor object\"\n",
    "assert tf.rank(images).numpy() == 4, \"matrix must be of rank 4\"\n",
    "assert tf.shape(images).numpy().tolist() == [10, 256, 256, 3]"
   ]
  },
  {
   "cell_type": "code",
   "execution_count": 33,
   "id": "1432e021",
   "metadata": {},
   "outputs": [],
   "source": [
    "row_vec = matrix[1]\n",
    "column_vec = matrix[:,1]\n",
    "scalar = matrix[0, 2]"
   ]
  },
  {
   "cell_type": "code",
   "execution_count": 34,
   "id": "ee51408f",
   "metadata": {},
   "outputs": [
    {
     "name": "stdout",
     "output_type": "stream",
     "text": [
      "`row_vector`: [4 5 6]\n",
      "`column_vector`: [2 5 8]\n",
      "`scalar`: 3\n"
     ]
    }
   ],
   "source": [
    "\n",
    "print(\"`row_vector`: {}\".format(row_vec.numpy()))\n",
    "print(\"`column_vector`: {}\".format(column_vec.numpy()))\n",
    "print(\"`scalar`: {}\".format(scalar.numpy()))\n",
    "     "
   ]
  },
  {
   "cell_type": "code",
   "execution_count": 35,
   "id": "818269f8",
   "metadata": {},
   "outputs": [
    {
     "name": "stdout",
     "output_type": "stream",
     "text": [
      "tf.Tensor(69, shape=(), dtype=int32) tf.Tensor(69, shape=(), dtype=int32)\n"
     ]
    }
   ],
   "source": [
    "a = tf.constant(60)\n",
    "b = tf.constant(9)\n",
    "\n",
    "c1 = tf.add(a,b)\n",
    "c2 = a + b\n",
    "\n",
    "print(c1,c2)"
   ]
  },
  {
   "cell_type": "code",
   "execution_count": 36,
   "id": "35a2d320",
   "metadata": {},
   "outputs": [],
   "source": [
    "def func(a,b):\n",
    "    c = a + b\n",
    "    d = b - 1\n",
    "    return c*d"
   ]
  },
  {
   "cell_type": "code",
   "execution_count": 38,
   "id": "4a576487",
   "metadata": {},
   "outputs": [
    {
     "data": {
      "text/plain": [
       "35"
      ]
     },
     "execution_count": 38,
     "metadata": {},
     "output_type": "execute_result"
    }
   ],
   "source": [
    "func(1,6)"
   ]
  },
  {
   "cell_type": "code",
   "execution_count": 66,
   "id": "c105a265",
   "metadata": {},
   "outputs": [],
   "source": [
    "class DenseLayer(tf.keras.layers.Layer):\n",
    "    def __init__(self, n_op_nodes):\n",
    "        super(DenseLayer, self).__init__()\n",
    "        self.n_op_nodes = n_op_nodes\n",
    "    \n",
    "    def build(self, input_shape):\n",
    "        d = int(input_shape[-1])\n",
    "        self.W = self.add_weight(\"weight\", shape= [d,self.n_op_nodes], dtype= \"float32\")\n",
    "        self.B = self.add_weight(\"bias\", shape = [1, self.n_op_nodes], dtype= \"float32\")\n",
    "        \n",
    "    def call(self, x):\n",
    "        z = tf.matmul(x, self.W) + self.B\n",
    "        y = tf.keras.activations.sigmoid(z)\n",
    "        return y\n",
    "    \n",
    "    def get_weight(self):\n",
    "        print(self.W)"
   ]
  },
  {
   "cell_type": "code",
   "execution_count": 73,
   "id": "2128ca97",
   "metadata": {},
   "outputs": [],
   "source": [
    "tf.random.set_seed(1)\n",
    "layer = DenseLayer(3)\n",
    "layer.build((1,2))\n",
    "x_input = tf.constant([[1,2.]], shape=(1,2))\n",
    "y = layer.call(x_input)"
   ]
  },
  {
   "cell_type": "code",
   "execution_count": 74,
   "id": "ed77e635",
   "metadata": {},
   "outputs": [
    {
     "name": "stdout",
     "output_type": "stream",
     "text": [
      "<tf.Variable 'weight:0' shape=(2, 3) dtype=float32, numpy=\n",
      "array([[-0.73366153,  0.8796015 ,  0.28695   ],\n",
      "       [-0.14340228, -0.4558388 ,  0.3122064 ]], dtype=float32)>\n"
     ]
    }
   ],
   "source": [
    "layer.get_weight()"
   ]
  },
  {
   "cell_type": "code",
   "execution_count": 65,
   "id": "ec621763",
   "metadata": {},
   "outputs": [
    {
     "name": "stdout",
     "output_type": "stream",
     "text": [
      "[PASS] test_custom_dense_layer_output\n"
     ]
    },
    {
     "data": {
      "text/plain": [
       "True"
      ]
     },
     "execution_count": 65,
     "metadata": {},
     "output_type": "execute_result"
    }
   ],
   "source": [
    "mdl.lab1.test_custom_dense_layer_output(y)\n"
   ]
  },
  {
   "cell_type": "code",
   "execution_count": 116,
   "id": "975b505f",
   "metadata": {},
   "outputs": [],
   "source": [
    "from tensorflow.keras import Sequential, Model\n",
    "from tensorflow.keras.layers import Dense"
   ]
  },
  {
   "cell_type": "code",
   "execution_count": null,
   "id": "8c4f35fe",
   "metadata": {},
   "outputs": [],
   "source": [
    "\"\"\"\n",
    "\n",
    "### Defining a neural network using the Sequential API ###\n",
    "\n",
    "# Import relevant packages\n",
    "from tensorflow.keras import Sequential\n",
    "from tensorflow.keras.layers import Dense\n",
    "\n",
    "# Define the number of outputs\n",
    "n_output_nodes = 3\n",
    "\n",
    "# First define the model \n",
    "model = Sequential()\n",
    "\n",
    "'''TODO: Define a dense (fully connected) layer to compute z'''\n",
    "# Remember: dense layers are defined by the parameters W and b!\n",
    "# You can read more about the initialization of W and b in the TF documentation :) \n",
    "# https://www.tensorflow.org/api_docs/python/tf/keras/layers/Dense?version=stable\n",
    "dense_layer = # TODO\n",
    "\n",
    "# Add the dense layer to the model\n",
    "model.add(dense_layer)\n",
    "\"\"\""
   ]
  },
  {
   "cell_type": "code",
   "execution_count": 110,
   "id": "8062ec21",
   "metadata": {},
   "outputs": [],
   "source": [
    "n_op_nodes = 3\n",
    "\n",
    "model = Sequential()\n",
    "model.add(tf.keras.layers.Dense(n_op_nodes, activation= 'sigmoid'))\n",
    "\n",
    "\n"
   ]
  },
  {
   "cell_type": "code",
   "execution_count": 111,
   "id": "d00f995a",
   "metadata": {},
   "outputs": [
    {
     "ename": "AttributeError",
     "evalue": "'Sequential' object has no attribute '_nested_inputs'",
     "output_type": "error",
     "traceback": [
      "\u001b[1;31m---------------------------------------------------------------------------\u001b[0m",
      "\u001b[1;31mAttributeError\u001b[0m                            Traceback (most recent call last)",
      "\u001b[1;32mC:\\Users\\DHANUS~1\\AppData\\Local\\Temp/ipykernel_588/1069695091.py\u001b[0m in \u001b[0;36m<module>\u001b[1;34m\u001b[0m\n\u001b[1;32m----> 1\u001b[1;33m \u001b[0mmodel\u001b[0m\u001b[1;33m.\u001b[0m\u001b[0minput_shape\u001b[0m\u001b[1;33m\u001b[0m\u001b[1;33m\u001b[0m\u001b[0m\n\u001b[0m",
      "\u001b[1;32mD:\\AnacondaNavigator\\lib\\site-packages\\keras\\engine\\functional.py\u001b[0m in \u001b[0;36minput_shape\u001b[1;34m(self)\u001b[0m\n\u001b[0;32m    299\u001b[0m         \u001b[0mRuntimeError\u001b[0m\u001b[1;33m:\u001b[0m \u001b[1;32mif\u001b[0m \u001b[0mcalled\u001b[0m \u001b[1;32min\u001b[0m \u001b[0mEager\u001b[0m \u001b[0mmode\u001b[0m\u001b[1;33m.\u001b[0m\u001b[1;33m\u001b[0m\u001b[1;33m\u001b[0m\u001b[0m\n\u001b[0;32m    300\u001b[0m     \"\"\"\n\u001b[1;32m--> 301\u001b[1;33m     \u001b[1;32mreturn\u001b[0m \u001b[0mtf\u001b[0m\u001b[1;33m.\u001b[0m\u001b[0mnest\u001b[0m\u001b[1;33m.\u001b[0m\u001b[0mmap_structure\u001b[0m\u001b[1;33m(\u001b[0m\u001b[0mbackend\u001b[0m\u001b[1;33m.\u001b[0m\u001b[0mint_shape\u001b[0m\u001b[1;33m,\u001b[0m \u001b[0mself\u001b[0m\u001b[1;33m.\u001b[0m\u001b[0minput\u001b[0m\u001b[1;33m)\u001b[0m\u001b[1;33m\u001b[0m\u001b[1;33m\u001b[0m\u001b[0m\n\u001b[0m\u001b[0;32m    302\u001b[0m \u001b[1;33m\u001b[0m\u001b[0m\n\u001b[0;32m    303\u001b[0m   \u001b[1;33m@\u001b[0m\u001b[0mproperty\u001b[0m\u001b[1;33m\u001b[0m\u001b[1;33m\u001b[0m\u001b[0m\n",
      "\u001b[1;32mD:\\AnacondaNavigator\\lib\\site-packages\\keras\\engine\\functional.py\u001b[0m in \u001b[0;36minput\u001b[1;34m(self)\u001b[0m\n\u001b[0;32m    281\u001b[0m       \u001b[0mAttributeError\u001b[0m\u001b[1;33m:\u001b[0m \u001b[0mIf\u001b[0m \u001b[0mno\u001b[0m \u001b[0minbound\u001b[0m \u001b[0mnodes\u001b[0m \u001b[0mare\u001b[0m \u001b[0mfound\u001b[0m\u001b[1;33m.\u001b[0m\u001b[1;33m\u001b[0m\u001b[1;33m\u001b[0m\u001b[0m\n\u001b[0;32m    282\u001b[0m     \"\"\"\n\u001b[1;32m--> 283\u001b[1;33m     \u001b[1;32mreturn\u001b[0m \u001b[0mself\u001b[0m\u001b[1;33m.\u001b[0m\u001b[0m_nested_inputs\u001b[0m\u001b[1;33m\u001b[0m\u001b[1;33m\u001b[0m\u001b[0m\n\u001b[0m\u001b[0;32m    284\u001b[0m \u001b[1;33m\u001b[0m\u001b[0m\n\u001b[0;32m    285\u001b[0m   \u001b[1;33m@\u001b[0m\u001b[0mproperty\u001b[0m\u001b[1;33m\u001b[0m\u001b[1;33m\u001b[0m\u001b[0m\n",
      "\u001b[1;31mAttributeError\u001b[0m: 'Sequential' object has no attribute '_nested_inputs'"
     ]
    }
   ],
   "source": [
    "model.input_shape"
   ]
  },
  {
   "cell_type": "code",
   "execution_count": 107,
   "id": "d7643458",
   "metadata": {},
   "outputs": [],
   "source": [
    "x_input = tf.constant([[1,2.]])"
   ]
  },
  {
   "cell_type": "code",
   "execution_count": 114,
   "id": "37496e7e",
   "metadata": {},
   "outputs": [],
   "source": [
    "op = model(x_input)"
   ]
  },
  {
   "cell_type": "code",
   "execution_count": 115,
   "id": "94671f3d",
   "metadata": {},
   "outputs": [
    {
     "data": {
      "text/plain": [
       "<tf.Tensor: shape=(1, 3), dtype=float32, numpy=array([[0.2069671, 0.868585 , 0.8226104]], dtype=float32)>"
      ]
     },
     "execution_count": 115,
     "metadata": {},
     "output_type": "execute_result"
    }
   ],
   "source": [
    "op"
   ]
  },
  {
   "cell_type": "code",
   "execution_count": null,
   "id": "005bcdc6",
   "metadata": {},
   "outputs": [],
   "source": []
  },
  {
   "cell_type": "code",
   "execution_count": null,
   "id": "dc463a52",
   "metadata": {},
   "outputs": [],
   "source": []
  },
  {
   "cell_type": "code",
   "execution_count": null,
   "id": "a0fcb5d1",
   "metadata": {},
   "outputs": [],
   "source": []
  },
  {
   "cell_type": "code",
   "execution_count": 118,
   "id": "80d3ee74",
   "metadata": {},
   "outputs": [],
   "source": [
    "class SubClassModel(tf.keras.Model):\n",
    "    \n",
    "    def __init__(self, n_op_nodes):\n",
    "        super(SubClassModel, self).__init__()\n",
    "        d = tf.keras.layers.Dense(n_op_nodes,activation='sigmoid')\n",
    "        self.dense_layer = d\n",
    "    \n",
    "    def call(self, inputs):\n",
    "        return self.dense_layer(inputs)"
   ]
  },
  {
   "cell_type": "code",
   "execution_count": 120,
   "id": "c8fede23",
   "metadata": {},
   "outputs": [
    {
     "name": "stdout",
     "output_type": "stream",
     "text": [
      "tf.Tensor([[0.16725184 0.11764057 0.44440642]], shape=(1, 3), dtype=float32)\n"
     ]
    }
   ],
   "source": [
    "n_output_nodes = 3\n",
    "model = SubClassModel(n_output_nodes)\n",
    "\n",
    "x_input = tf.constant([[1,2.]], shape=(1,2))\n",
    "\n",
    "print(model.call(x_input))"
   ]
  },
  {
   "cell_type": "code",
   "execution_count": 124,
   "id": "aaffbcaa",
   "metadata": {},
   "outputs": [],
   "source": [
    "class IdentityModel(tf.keras.Model):\n",
    "    def __init__(self, n_op_nodes):\n",
    "        super(IdentityModel, self).__init__()\n",
    "        self.dense_layer = tf.keras.layers.Dense(n_op_nodes, activation=\"sigmoid\")\n",
    "    \n",
    "    def call(self, inputs, is_identity=False):\n",
    "        x = self.dense_layer(inputs)\n",
    "        return x if is_identity == False else inputs"
   ]
  },
  {
   "cell_type": "code",
   "execution_count": 125,
   "id": "1659cf25",
   "metadata": {},
   "outputs": [
    {
     "name": "stdout",
     "output_type": "stream",
     "text": [
      "Network output with activation: [[0.13892046 0.20031624 0.7598267 ]]; network identity output: [[1. 2.]]\n"
     ]
    }
   ],
   "source": [
    "\n",
    "n_output_nodes = 3\n",
    "model = IdentityModel(n_output_nodes)\n",
    "\n",
    "x_input = tf.constant([[1,2.]], shape=(1,2))\n",
    "'''TODO: pass the input into the model and call with and without the input identity option.'''\n",
    "out_activate = model.call(x_input, is_identity=False)\n",
    "out_identity = model.call(x_input, is_identity=True)\n",
    "\n",
    "print(\"Network output with activation: {}; network identity output: {}\".format(out_activate.numpy(), out_identity.numpy()))"
   ]
  },
  {
   "cell_type": "code",
   "execution_count": 141,
   "id": "96447d86",
   "metadata": {},
   "outputs": [],
   "source": [
    "x = tf.Variable(3.0)\n",
    "\n",
    "\n",
    "with tf.GradientTape() as tape:\n",
    "    y = x*x\n",
    "\n",
    "dy_dx = tape.gradient(y,x)\n",
    "\n"
   ]
  },
  {
   "cell_type": "code",
   "execution_count": 142,
   "id": "c24ac8a6",
   "metadata": {},
   "outputs": [
    {
     "name": "stdout",
     "output_type": "stream",
     "text": [
      "tf.Tensor(6.0, shape=(), dtype=float32)\n"
     ]
    }
   ],
   "source": [
    "print(dy_dx)"
   ]
  },
  {
   "cell_type": "code",
   "execution_count": 154,
   "id": "7d5dff14",
   "metadata": {},
   "outputs": [
    {
     "data": {
      "text/plain": [
       "Text(0, 0.5, 'x value')"
      ]
     },
     "execution_count": 154,
     "metadata": {},
     "output_type": "execute_result"
    },
    {
     "data": {
      "image/png": "[encoded data removed]",
      "text/plain": [
       "<Figure size 432x288 with 1 Axes>"
      ]
     },
     "metadata": {
      "needs_background": "light"
     },
     "output_type": "display_data"
    }
   ],
   "source": [
    "x = tf.Variable([tf.random.normal([1])])\n",
    "\n",
    "learning_rate = 1e-2\n",
    "history = []\n",
    "\n",
    "x_f = 4\n",
    "\n",
    "for i in range(500):\n",
    "    with tf.GradientTape() as tape:\n",
    "        l = (x - x_f)**2\n",
    "    \n",
    "    grad = tape.gradient(l,x)\n",
    "    new_x = x - learning_rate*grad\n",
    "    x.assign(new_x)\n",
    "    history.append(x.numpy()[0])\n",
    "    \n",
    "plt.plot(history)\n",
    "plt.plot([0, 500],[x_f,x_f])\n",
    "plt.legend(('Predicted', 'True'))\n",
    "plt.xlabel('Iteration')\n",
    "plt.ylabel('x value')"
   ]
  },
  {
   "cell_type": "code",
   "execution_count": 155,
   "id": "3595e2bc",
   "metadata": {},
   "outputs": [
    {
     "name": "stdout",
     "output_type": "stream",
     "text": [
      "[[3.9998307]]\n"
     ]
    }
   ],
   "source": [
    "print(x.numpy())"
   ]
  },
  {
   "cell_type": "code",
   "execution_count": 156,
   "id": "276ca75b",
   "metadata": {},
   "outputs": [
    {
     "name": "stdout",
     "output_type": "stream",
     "text": [
      "[[3.9998307]]\n"
     ]
    }
   ],
   "source": [
    "print(x.numpy())"
   ]
  },
  {
   "cell_type": "code",
   "execution_count": null,
   "id": "ade5af56",
   "metadata": {},
   "outputs": [],
   "source": []
  },
  {
   "cell_type": "code",
   "execution_count": null,
   "id": "0846d92c",
   "metadata": {},
   "outputs": [],
   "source": []
  }
 ],
 "metadata": {
  "kernelspec": {
   "display_name": "Python 3 (ipykernel)",
   "language": "python",
   "name": "python3"
  },
  "language_info": {
   "codemirror_mode": {
    "name": "ipython",
    "version": 3
   },
   "file_extension": ".py",
   "mimetype": "text/x-python",
   "name": "python",
   "nbconvert_exporter": "python",
   "pygments_lexer": "ipython3",
   "version": "3.9.7"
  }
 },
 "nbformat": 4,
 "nbformat_minor": 5
}
