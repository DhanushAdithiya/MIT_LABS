{
 "cells": [
  {
   "cell_type": "code",
   "execution_count": 9,
   "id": "1eb1e3f8",
   "metadata": {
    "collapsed": true
   },
   "outputs": [
    {
     "name": "stderr",
     "output_type": "stream",
     "text": [
      "In D:\\AnacondaNavigator\\lib\\site-packages\\matplotlib\\mpl-data\\stylelib\\classic (2).mplstyle: \n",
      "The text.latex.preview rcparam was deprecated in Matplotlib 3.3 and will be removed two minor releases later.\n",
      "In D:\\AnacondaNavigator\\lib\\site-packages\\matplotlib\\mpl-data\\stylelib\\classic (2).mplstyle: \n",
      "The mathtext.fallback_to_cm rcparam was deprecated in Matplotlib 3.3 and will be removed two minor releases later.\n",
      "In D:\\AnacondaNavigator\\lib\\site-packages\\matplotlib\\mpl-data\\stylelib\\classic (2).mplstyle: Support for setting the 'mathtext.fallback_to_cm' rcParam is deprecated since 3.3 and will be removed two minor releases later; use 'mathtext.fallback : 'cm' instead.\n",
      "In D:\\AnacondaNavigator\\lib\\site-packages\\matplotlib\\mpl-data\\stylelib\\classic (2).mplstyle: \n",
      "The validate_bool_maybe_none function was deprecated in Matplotlib 3.3 and will be removed two minor releases later.\n",
      "In D:\\AnacondaNavigator\\lib\\site-packages\\matplotlib\\mpl-data\\stylelib\\classic (2).mplstyle: \n",
      "The savefig.jpeg_quality rcparam was deprecated in Matplotlib 3.3 and will be removed two minor releases later.\n",
      "In D:\\AnacondaNavigator\\lib\\site-packages\\matplotlib\\mpl-data\\stylelib\\classic (2).mplstyle: \n",
      "The keymap.all_axes rcparam was deprecated in Matplotlib 3.3 and will be removed two minor releases later.\n",
      "In D:\\AnacondaNavigator\\lib\\site-packages\\matplotlib\\mpl-data\\stylelib\\classic (2).mplstyle: \n",
      "The animation.avconv_path rcparam was deprecated in Matplotlib 3.3 and will be removed two minor releases later.\n",
      "In D:\\AnacondaNavigator\\lib\\site-packages\\matplotlib\\mpl-data\\stylelib\\classic (2).mplstyle: \n",
      "The animation.avconv_args rcparam was deprecated in Matplotlib 3.3 and will be removed two minor releases later.\n",
      "The system cannot find the path specified.\n"
     ]
    }
   ],
   "source": [
    "import tensorflow as tf\n",
    "import numpy as np\n",
    "import os\n",
    "import time\n",
    "import functools\n",
    "from IPython import display as ipythondisplay\n",
    "from tqdm import tqdm\n",
    "import mitdeeplearning as mdl\n",
    "!apt-get install abcmidi timidity > /dev/null 2>&1\n",
    "\n",
    "tf.config.set_visible_devices([], \"GPU\")"
   ]
  },
  {
   "cell_type": "code",
   "execution_count": 10,
   "id": "f8500afe",
   "metadata": {},
   "outputs": [
    {
     "name": "stdout",
     "output_type": "stream",
     "text": [
      "Found 817 songs in text\n"
     ]
    }
   ],
   "source": [
    "songs = mdl.lab1.load_training_data()"
   ]
  },
  {
   "cell_type": "code",
   "execution_count": 11,
   "id": "ce005e4d",
   "metadata": {},
   "outputs": [
    {
     "name": "stdout",
     "output_type": "stream",
     "text": [
      "X:1\n",
      "T:Alexander's\n",
      "Z: id:dc-hornpipe-1\n",
      "M:C|\n",
      "L:1/8\n",
      "K:D Major\n",
      "(3ABc|dAFA DFAd|fdcd FAdf|gfge fefd|(3efe (3dcB A2 (3ABc|!\n",
      "dAFA DFAd|fdcd FAdf|gfge fefd|(3efe dc d2:|!\n",
      "AG|FAdA FAdA|GBdB GBdB|Acec Acec|dfaf gecA|!\n",
      "FAdA FAdA|GBdB GBdB|Aceg fefd|(3efe dc d2:|!\n"
     ]
    }
   ],
   "source": [
    "e1 = songs[0]\n",
    "print(e1)"
   ]
  },
  {
   "cell_type": "code",
   "execution_count": 19,
   "id": "45de1585",
   "metadata": {},
   "outputs": [],
   "source": [
    "songs_join = \"\\n\\n\".join(songs)\n",
    "vocab = sorted(set(songs_join))\n"
   ]
  },
  {
   "cell_type": "code",
   "execution_count": 21,
   "id": "16f7cc0c",
   "metadata": {},
   "outputs": [],
   "source": [
    "char2idx = {u:i for i, u in enumerate(vocab)}\n",
    "idx2char = np.array(vocab)"
   ]
  },
  {
   "cell_type": "code",
   "execution_count": 32,
   "id": "68dec3ca",
   "metadata": {},
   "outputs": [
    {
     "name": "stdout",
     "output_type": "stream",
     "text": [
      "58\n"
     ]
    }
   ],
   "source": [
    "\n",
    "print(char2idx.get(\"c\"))"
   ]
  },
  {
   "cell_type": "code",
   "execution_count": 43,
   "id": "503bbdcb",
   "metadata": {},
   "outputs": [],
   "source": [
    "\n",
    "### Vectorize the songs string ###\n",
    "\n",
    "'''TODO: Write a function to convert the all songs string to a vectorized\n",
    "    (i.e., numeric) representation. Use the appropriate mapping\n",
    "    above to convert from vocab characters to the corresponding indices.\n",
    "\n",
    "  NOTE: the output of the `vectorize_string` function \n",
    "  should be a np.array with `N` elements, where `N` is\n",
    "  the number of characters in the input string\n",
    "'''\n",
    "\n",
    "def vectorize_string(string):\n",
    "    arr = []\n",
    "    for i in string:\n",
    "        arr.append(char2idx.get(i))\n",
    "    \n",
    "    return np.array(arr)\n",
    "\n",
    "vectorized_songs = vectorize_string(songs_join)"
   ]
  },
  {
   "cell_type": "code",
   "execution_count": 44,
   "id": "90cd893d",
   "metadata": {},
   "outputs": [
    {
     "data": {
      "text/plain": [
       "array([49, 22, 13, ..., 22, 82,  2])"
      ]
     },
     "execution_count": 44,
     "metadata": {},
     "output_type": "execute_result"
    }
   ],
   "source": [
    "vectorized_songs"
   ]
  },
  {
   "cell_type": "code",
   "execution_count": 46,
   "id": "93bd34b6",
   "metadata": {},
   "outputs": [
    {
     "name": "stdout",
     "output_type": "stream",
     "text": [
      "'X:1\\nT:Alex' ---- characters mapped to int ----> [49 22 13  0 45 22 26 67 60 79]\n"
     ]
    }
   ],
   "source": [
    "print ('{} ---- characters mapped to int ----> {}'.format(repr(songs_join[:10]), vectorized_songs[:10]))\n",
    "# check that vectorized_songs is a numpy array\n",
    "assert isinstance(vectorized_songs, np.ndarray), \"returned result should be a numpy array\""
   ]
  },
  {
   "cell_type": "code",
   "execution_count": 58,
   "id": "f2a5bf9c",
   "metadata": {},
   "outputs": [],
   "source": [
    "def get_batch(vectorized_songs, seq_length, batch_size):\n",
    "    n = vectorized_songs.shape[0] - 1\n",
    "    idx = np.random.choice(n-seq_length, batch_size)\n",
    "    \n",
    "    '''TODO: construct a list of input sequences for the training batch'''\n",
    "    input_batch = [vectorized_songs[i : i + seq_length] for i in idx]\n",
    "    '''TODO: construct a list of output sequences for the training batch'''\n",
    "    output_batch = [vectorized_songs[i + 1 : i + seq_length +1 ] for i in idx]\n",
    "    \n",
    "    x_batch = np.reshape(input_batch, [batch_size, seq_length])\n",
    "    y_batch = np.reshape(output_batch, [batch_size, seq_length])\n",
    "    \n",
    "    return x_batch, y_batch\n",
    "    \n",
    "    "
   ]
  },
  {
   "cell_type": "code",
   "execution_count": 59,
   "id": "a139abe5",
   "metadata": {},
   "outputs": [
    {
     "name": "stdout",
     "output_type": "stream",
     "text": [
      "[PASS] test_batch_func_types\n",
      "[PASS] test_batch_func_shapes\n",
      "[PASS] test_batch_func_next_step\n",
      "======\n",
      "[PASS] passed all tests!\n"
     ]
    }
   ],
   "source": [
    "test_args = (vectorized_songs, 10, 2)\n",
    "if not mdl.lab1.test_batch_func_types(get_batch, test_args) or \\\n",
    "   not mdl.lab1.test_batch_func_shapes(get_batch, test_args) or \\\n",
    "   not mdl.lab1.test_batch_func_next_step(get_batch, test_args): \n",
    "   print(\"======\\n[FAIL] could not pass tests\")\n",
    "else: \n",
    "   print(\"======\\n[PASS] passed all tests!\")\n",
    "     "
   ]
  },
  {
   "cell_type": "code",
   "execution_count": 60,
   "id": "335e09ee",
   "metadata": {},
   "outputs": [
    {
     "name": "stdout",
     "output_type": "stream",
     "text": [
      "Step   0\n",
      "  input: 1 (' ')\n",
      "  expected output: 61 ('f')\n",
      "Step   1\n",
      "  input: 61 ('f')\n",
      "  expected output: 59 ('d')\n",
      "Step   2\n",
      "  input: 59 ('d')\n",
      "  expected output: 61 ('f')\n",
      "Step   3\n",
      "  input: 61 ('f')\n",
      "  expected output: 56 ('a')\n",
      "Step   4\n",
      "  input: 56 ('a')\n",
      "  expected output: 82 ('|')\n"
     ]
    }
   ],
   "source": [
    "x_batch, y_batch = get_batch(vectorized_songs, seq_length=5, batch_size=1)\n",
    "\n",
    "for i, (input_idx, target_idx) in enumerate(zip(np.squeeze(x_batch), np.squeeze(y_batch))):\n",
    "    print(\"Step {:3d}\".format(i))\n",
    "    print(\"  input: {} ({:s})\".format(input_idx, repr(idx2char[input_idx])))\n",
    "    print(\"  expected output: {} ({:s})\".format(target_idx, repr(idx2char[target_idx])))"
   ]
  },
  {
   "cell_type": "code",
   "execution_count": 92,
   "id": "ccbe045e",
   "metadata": {},
   "outputs": [],
   "source": [
    "def LSTM(rnn_units):\n",
    "    return tf.keras.layers.LSTM(\n",
    "        rnn_units, \n",
    "        return_sequences=True,\n",
    "        recurrent_initializer='glorot_uniform',\n",
    "        recurrent_activation='sigmoid',\n",
    "        stateful=True\n",
    "    )"
   ]
  },
  {
   "cell_type": "code",
   "execution_count": 94,
   "id": "ff5f2d04",
   "metadata": {},
   "outputs": [],
   "source": [
    "def build_model(vocab_size, embedding_dim, rnn_units, batch_size):\n",
    "    model = tf.keras.Sequential([\n",
    "        tf.keras.layers.Embedding(vocab_size, embedding_dim, batch_input_shape=[batch_size, None]),\n",
    "        LSTM(rnn_units),\n",
    "        tf.keras.layers.Dense(vocab_size)\n",
    "    ])\n",
    "    \n",
    "    return model\n",
    "    "
   ]
  },
  {
   "cell_type": "code",
   "execution_count": 95,
   "id": "05d819cb",
   "metadata": {},
   "outputs": [],
   "source": [
    "model = build_model(len(vocab), embedding_dim=256, rnn_units=1024, batch_size=32)\n"
   ]
  },
  {
   "cell_type": "code",
   "execution_count": 96,
   "id": "acfb92e9",
   "metadata": {},
   "outputs": [
    {
     "name": "stdout",
     "output_type": "stream",
     "text": [
      "[[60 61 82 ... 59 15 22]\n",
      " [32 31 32 ...  1 58 27]\n",
      " [30 14 82 ... 61 62 82]\n",
      " ...\n",
      " [60  1 60 ... 26  1 26]\n",
      " [ 2  0 26 ... 82 29 31]\n",
      " [15 19 16 ... 60 59 58]]\n"
     ]
    }
   ],
   "source": [
    "print(y)"
   ]
  },
  {
   "cell_type": "code",
   "execution_count": 97,
   "id": "49d4c605",
   "metadata": {},
   "outputs": [
    {
     "name": "stdout",
     "output_type": "stream",
     "text": [
      "Input shape:       (32, 100)  # (batch_size, sequence_length)\n",
      "Prediction shape:  (32, 100, 83) # (batch_size, sequence_length, vocab_size)\n"
     ]
    }
   ],
   "source": [
    "x, y = get_batch(vectorized_songs, seq_length=100, batch_size=32)\n",
    "pred = model(x)\n",
    "print(\"Input shape:      \", x.shape, \" # (batch_size, sequence_length)\")\n",
    "print(\"Prediction shape: \", pred.shape, \"# (batch_size, sequence_length, vocab_size)\")"
   ]
  },
  {
   "cell_type": "code",
   "execution_count": 98,
   "id": "c7740c5c",
   "metadata": {},
   "outputs": [
    {
     "data": {
      "text/plain": [
       "array([23,  4, 28, 33, 44, 28,  6, 79, 37, 20, 77, 82, 11, 59, 59, 18, 44,\n",
       "       79, 51, 22, 49, 69, 58, 51, 12,  9, 75, 79, 82, 49, 70, 66, 75, 63,\n",
       "       57, 72, 44, 70, 56, 73, 54, 34, 36, 48, 36, 47, 74, 20, 66,  8, 53,\n",
       "       66, 38, 20, 40, 16, 22, 65, 68, 17, 31, 18, 81, 53, 47, 54, 16, 67,\n",
       "       55, 16, 40, 33, 57, 38, 15, 48, 72, 78, 66, 43,  5, 18, 74, 36,  0,\n",
       "       18, 38, 56, 75, 13, 59, 68, 69, 70, 36, 64, 19, 41, 20, 35],\n",
       "      dtype=int64)"
      ]
     },
     "execution_count": 98,
     "metadata": {},
     "output_type": "execute_result"
    }
   ],
   "source": [
    "sampled_indices = tf.random.categorical(pred[0], num_samples=1)\n",
    "sampled_indices = tf.squeeze(sampled_indices, axis=-1).numpy()\n",
    "sampled_indices"
   ]
  },
  {
   "cell_type": "code",
   "execution_count": 99,
   "id": "b01a6394",
   "metadata": {},
   "outputs": [
    {
     "name": "stdout",
     "output_type": "stream",
     "text": [
      "Input: \n",
      " ' dBB2|AFF2 ABde|fedc d3:|!\\ne|faa2 bafb|afef dBB2|faa2 fbb2|abba b3a|!\\nfaa2 bafb|afef dBB2|AFF2 ABde|'\n",
      "\n",
      "Next Char Predictions: \n",
      " \"<#CHSC(xL8v|/dd6SxZ:XncZ0-tx|XokthbqSoar^IKWKVs8k,]kM8O4:jm5F6z]V^4l_4OHbM3WqwkR'6sK\\n6Mat1dmnoKi7P8J\"\n"
     ]
    }
   ],
   "source": [
    "print(\"Input: \\n\", repr(\"\".join(idx2char[x[0]])))\n",
    "print()\n",
    "print(\"Next Char Predictions: \\n\", repr(\"\".join(idx2char[sampled_indices])))"
   ]
  },
  {
   "cell_type": "code",
   "execution_count": 100,
   "id": "a45b54dc",
   "metadata": {
    "scrolled": false
   },
   "outputs": [],
   "source": [
    "def compute_loss(labels, logits):\n",
    "    loss = tf.keras.losses.sparse_categorical_crossentropy(labels, logits, from_logits=True)\n",
    "    return loss\n",
    "\n",
    "example_batch_loss = compute_loss(y, pred)\n"
   ]
  },
  {
   "cell_type": "code",
   "execution_count": 101,
   "id": "47799025",
   "metadata": {},
   "outputs": [
    {
     "name": "stdout",
     "output_type": "stream",
     "text": [
      "Prediction shape:  (32, 100, 83)  # (batch_size, sequence_length, vocab_size)\n",
      "scalar_loss:       4.418812\n"
     ]
    }
   ],
   "source": [
    "print(\"Prediction shape: \", pred.shape, \" # (batch_size, sequence_length, vocab_size)\") \n",
    "print(\"scalar_loss:      \", example_batch_loss.numpy().mean())\n",
    "     "
   ]
  },
  {
   "cell_type": "code",
   "execution_count": 102,
   "id": "038da508",
   "metadata": {},
   "outputs": [],
   "source": [
    "n_training_iterations = 2000\n",
    "batch_size = 4\n",
    "seq_length = 100\n",
    "learning_rate = 5e-3\n",
    "\n",
    "vocab_size = len(vocab)\n",
    "embedding_dim = 256\n",
    "rnn_units = 1024\n",
    "\n",
    "checkpoints= \"./training_checkpoints\"\n",
    "check_pre = os.path.join(checkpoints, \"my_ckpt\")"
   ]
  },
  {
   "cell_type": "code",
   "execution_count": 117,
   "id": "4dd1a1c8",
   "metadata": {},
   "outputs": [
    {
     "data": {
      "image/png": "[encoded data removed]",
      "text/plain": [
       "<Figure size 432x288 with 1 Axes>"
      ]
     },
     "metadata": {},
     "output_type": "display_data"
    },
    {
     "name": "stderr",
     "output_type": "stream",
     "text": [
      "100%|███████████████████████████████████████████████████| 2000/2000 [38:41<00:00,  1.16s/it]\n"
     ]
    },
    {
     "data": {
      "image/png": "[encoded data removed]",
      "text/plain": [
       "<Figure size 432x288 with 1 Axes>"
      ]
     },
     "metadata": {
      "needs_background": "light"
     },
     "output_type": "display_data"
    }
   ],
   "source": [
    "model = build_model(vocab_size, embedding_dim, rnn_units, batch_size)\n",
    "\n",
    "optimizer = tf.keras.optimizers.Adam()\n",
    "\n",
    "@tf.function\n",
    "def train_step(x,y):\n",
    "    with tf.GradientTape() as tape:\n",
    "        y_hat = model(x)\n",
    "        loss = compute_loss(y, y_hat)\n",
    "        \n",
    "    grads = tape.gradient(loss,model.trainable_variables)\n",
    "    \n",
    "    optimizer.apply_gradients(zip(grads, model.trainable_variables))\n",
    "        \n",
    "    return loss\n",
    "    \n",
    "    \n",
    "history = []\n",
    "plotter = mdl.util.PeriodicPlotter(sec=2, xlabel=\"Iterations\", ylabel=\"loss\")\n",
    "if hasattr(tqdm, '_instances'): tqdm._instances.clear() # clear if it exists\n",
    "for iter in tqdm(range(n_training_iterations)):\n",
    "\n",
    "    # Grab a batch and propagate it through the network\n",
    "    x_batch, y_batch = get_batch(vectorized_songs, seq_length, batch_size)\n",
    "    loss = train_step(x_batch, y_batch)\n",
    "\n",
    "    # Update the progress bar\n",
    "    history.append(loss.numpy().mean())\n",
    "    plotter.plot(history)\n",
    "\n",
    "    # Update the model with the changed weights!\n",
    "    if iter % 100 == 0:     \n",
    "        model.save_weights(check_pre)\n",
    "    \n",
    "# Save the trained model and the weights\n",
    "model.save_weights(check_pre)"
   ]
  },
  {
   "cell_type": "code",
   "execution_count": 118,
   "id": "fd51658f",
   "metadata": {},
   "outputs": [
    {
     "name": "stdout",
     "output_type": "stream",
     "text": [
      "Model: \"sequential_13\"\n",
      "_________________________________________________________________\n",
      " Layer (type)                Output Shape              Param #   \n",
      "=================================================================\n",
      " embedding_14 (Embedding)    (1, None, 256)            21248     \n",
      "                                                                 \n",
      " lstm_14 (LSTM)              (1, None, 1024)           5246976   \n",
      "                                                                 \n",
      " dense_14 (Dense)            (1, None, 83)             85075     \n",
      "                                                                 \n",
      "=================================================================\n",
      "Total params: 5,353,299\n",
      "Trainable params: 5,353,299\n",
      "Non-trainable params: 0\n",
      "_________________________________________________________________\n"
     ]
    }
   ],
   "source": [
    "model = build_model(vocab_size, embedding_dim, rnn_units, batch_size=1)\n",
    "model.load_weights(tf.train.latest_checkpoint(checkpoints))\n",
    "model.build(tf.TensorShape([1, None]))\n",
    "\n",
    "model.summary()"
   ]
  },
  {
   "cell_type": "code",
   "execution_count": 128,
   "id": "929df93f",
   "metadata": {},
   "outputs": [],
   "source": [
    "def gen(model, starting_string, generation_len=1000):\n",
    "    inp = vectorize_string(starting_string)\n",
    "    input_eval = inp\n",
    "    input_eval = tf.expand_dims(input_eval, 0)\n",
    "    \n",
    "    text_gen = []\n",
    "    \n",
    "    model.reset_states()\n",
    "    tqdm._instances.clear()\n",
    "    \n",
    "    for i in tqdm(range(generation_len)):\n",
    "        predictions = model(input_eval)\n",
    "        predictions = tf.squeeze(predictions,0)\n",
    "        \n",
    "        predicted_id = tf.random.categorical(predictions, num_samples=1)[-1,0].numpy()\n",
    "        \n",
    "        input_eval = tf.expand_dims([predicted_id], 0)\n",
    "        \n",
    "        text_gen.append(idx2char[predicted_id])\n",
    "        \n",
    "    return (starting_string + \"\".join(text_gen))"
   ]
  },
  {
   "cell_type": "code",
   "execution_count": 135,
   "id": "aad45fc7",
   "metadata": {},
   "outputs": [
    {
     "name": "stderr",
     "output_type": "stream",
     "text": [
      "100%|██████████████████████████████████████████████████| 1000/1000 [00:07<00:00, 136.77it/s]\n"
     ]
    }
   ],
   "source": [
    "generated_text = gen(model, starting_string=\"D\", generation_len=1000) # TODO\n"
   ]
  },
  {
   "cell_type": "code",
   "execution_count": 136,
   "id": "48508da7",
   "metadata": {},
   "outputs": [
    {
     "name": "stdout",
     "output_type": "stream",
     "text": [
      "Found 5 songs in text\n"
     ]
    }
   ],
   "source": [
    "generated_songs = mdl.lab1.extract_song_snippet(generated_text)\n",
    "\n",
    "for i, song in enumerate(generated_songs): \n",
    "  # Synthesize the waveform from a song\n",
    "  waveform = mdl.lab1.play_song(song)\n",
    "\n",
    "  # If its a valid song (correct syntax), lets play it! \n",
    "  if waveform:\n",
    "    print(\"Generated song\", i)\n",
    "    ipythondisplay.display(waveform)\n",
    "     "
   ]
  },
  {
   "cell_type": "code",
   "execution_count": 137,
   "id": "e8081ba4",
   "metadata": {},
   "outputs": [
    {
     "name": "stdout",
     "output_type": "stream",
     "text": [
      "DE FED2|!\n",
      "BEPE BEEC|BEE2 BcdA|B2G2 F2D2|d3f e2d:|!\n",
      "\n",
      "X:213\n",
      "T:McD Major\n",
      "A|dBAd B3d|e2d2 edBA|GEAB dBdB|A2AB AFEF|!\n",
      "G2GA GABd|edBd edBd|BGDB GA|BGGA BGG2|!\n",
      "eaa2 bage|dBcB dBGB|eged edBA|GABG AEE2:|!\n",
      "\n",
      "X:84\n",
      "M:Challiy's No. 1\n",
      "Z: id:dc-reel-196\n",
      "M:C\n",
      "L:1/8\n",
      "K:E Dorian\n",
      "A|BABF ABde|fdec dedB|AFED FAA2|dEAB GEED|EAAG ABc|d3:|!\n",
      "egg2 faa2|agag fded|cABG ABGE|DED2 GBAc|Bcde fdf:|!\n",
      "egg2 agfd|eBB2 BABB|dBAc BGEE|GBB2 dBgB|!\n",
      "eAB2 eBf2|gBB2 GBdB|cAA2:|!\n",
      "\n",
      "X:297\n",
      "T:Jathyy's\n",
      "Z: id:dc-reel-92\n",
      "M:C\n",
      "L:1/8\n",
      "K:A Major\n",
      "ag|fgfe dcBA|(3efc's\n",
      "Z: id:dc-reel-21\n",
      "M:C\n",
      "L:1/8\n",
      "K:D Major\n",
      "A|defe f3a|a3g fedg|ecc2 dBcA|defg a2ga|!\n",
      "bgeg f2de|fgaf gfed|eaag afdf|a^geb a=gab|!\n",
      "f2af beef|gfga gfde|fgaf g3e|fgaf g2:|!\n",
      "\n",
      "X:163\n",
      "T:O'munin's Favlisiny\n",
      "Z: id:dc-ocarolan-11\n",
      "M: id:dc-reel-330\n",
      "M:C\n",
      "L:1/8\n",
      "K:A Major\n",
      "dB|Acdf ecde|fece feec|dfe^c dfed|cded ^cded|!\n",
      "dgg2 dggd|egfg ecce|d2ef g2fg|!\n",
      "afgf gfeg|fedf agfd|egg2 agg2|afa^f feec|[1 dB(Bdef g4|]!\n",
      "\n",
      "X:124\n",
      "T:Falley's\n",
      "Z: id:dc-jig-136\n",
      "M:6/8\n",
      "L:1/8\n",
      "K:A Major\n",
      "A|dAF DFA|d2e fdB|AGF G2A|BdB AFE|F2D FED|\n"
     ]
    }
   ],
   "source": [
    "print(generated_text)"
   ]
  },
  {
   "cell_type": "code",
   "execution_count": null,
   "id": "bb5db9ed",
   "metadata": {},
   "outputs": [],
   "source": []
  }
 ],
 "metadata": {
  "kernelspec": {
   "display_name": "Python 3 (ipykernel)",
   "language": "python",
   "name": "python3"
  },
  "language_info": {
   "codemirror_mode": {
    "name": "ipython",
    "version": 3
   },
   "file_extension": ".py",
   "mimetype": "text/x-python",
   "name": "python",
   "nbconvert_exporter": "python",
   "pygments_lexer": "ipython3",
   "version": "3.9.7"
  }
 },
 "nbformat": 4,
 "nbformat_minor": 5
}
